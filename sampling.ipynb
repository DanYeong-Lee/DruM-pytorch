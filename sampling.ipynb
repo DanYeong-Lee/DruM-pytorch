{
 "cells": [
  {
   "cell_type": "code",
   "execution_count": 4,
   "metadata": {},
   "outputs": [
    {
     "name": "stderr",
     "output_type": "stream",
     "text": [
      "100%|██████████| 1000/1000 [01:59<00:00,  8.39it/s]\n"
     ]
    }
   ],
   "source": [
    "from tqdm import tqdm\n",
    "\n",
    "import torch\n",
    "import torch.nn as nn\n",
    "from src.model import GraphTransformer\n",
    "from torch_ema import ExponentialMovingAverage\n",
    "from src.diffusion import DruM_SDE\n",
    "\n",
    "\n",
    "device = torch.device('cuda:1')\n",
    "\n",
    "n_layers = 6\n",
    "input_dims = {'X': 4, 'E': 1, 'y': 1}\n",
    "hidden_mlp_dims = {'X': 256, 'E': 128, 'y': 128}\n",
    "hidden_dims = {'dx': 256, 'de': 64, 'dy': 64, 'n_head': 8, 'dim_ffX': 256, 'dim_ffE': 128, 'dim_ffy': 128}\n",
    "output_dims = {'X': 4, 'E': 1, 'y': 1}\n",
    "\n",
    "\n",
    "model = GraphTransformer(\n",
    "        n_layers=n_layers,\n",
    "        input_dims=input_dims,\n",
    "        hidden_mlp_dims=hidden_mlp_dims,\n",
    "        hidden_dims=hidden_dims,\n",
    "        output_dims=output_dims,\n",
    "        act_fn_in=nn.ReLU(),\n",
    "        act_fn_out=nn.ReLU(),\n",
    "    ).to(device)\n",
    "sde = DruM_SDE().to(device)\n",
    "\n",
    "model.load_state_dict(torch.load('ckpts/qm9_test_500epochs.pt'))\n",
    "\n",
    "n_atoms = torch.randint(7, 10, (8, ))\n",
    "#samples = sde.euler_maruyama_sample(model, device, n_atoms=n_atoms, n_steps=500)\n",
    "samples = sde.predictor_corrector_sample(model, device, n_atoms=n_atoms, n_steps=1000, n_lang_steps=1)"
   ]
  },
  {
   "cell_type": "code",
   "execution_count": 19,
   "metadata": {},
   "outputs": [
    {
     "data": {
      "image/png": "[encoded data removed]",
      "text/plain": [
       "<PIL.PngImagePlugin.PngImageFile image mode=RGB size=300x300>"
      ]
     },
     "execution_count": 19,
     "metadata": {},
     "output_type": "execute_result"
    }
   ],
   "source": [
    "from src.data_utils import drop_masked, data_to_mol, mol_to_pil, valid_mol_to_pil\n",
    "\n",
    "X, E = samples\n",
    "\n",
    "i = 0\n",
    "\n",
    "x, e = drop_masked(X[i], E[i])\n",
    "mol = data_to_mol(x, e)\n",
    "valid_mol_to_pil(mol)"
   ]
  }
 ],
 "metadata": {
  "kernelspec": {
   "display_name": "torch20_graph",
   "language": "python",
   "name": "python3"
  },
  "language_info": {
   "codemirror_mode": {
    "name": "ipython",
    "version": 3
   },
   "file_extension": ".py",
   "mimetype": "text/x-python",
   "name": "python",
   "nbconvert_exporter": "python",
   "pygments_lexer": "ipython3",
   "version": "3.10.10"
  },
  "orig_nbformat": 4
 },
 "nbformat": 4,
 "nbformat_minor": 2
}
