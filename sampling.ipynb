{
 "cells": [
  {
   "cell_type": "code",
   "execution_count": 14,
   "metadata": {},
   "outputs": [
    {
     "name": "stdout",
     "output_type": "stream",
     "text": [
      "torch.Size([8, 8, 4]) torch.Size([8, 8, 8]) torch.Size([8, 8])\n"
     ]
    },
    {
     "name": "stderr",
     "output_type": "stream",
     "text": [
      "100%|██████████| 500/500 [00:30<00:00, 16.51it/s]\n"
     ]
    }
   ],
   "source": [
    "from tqdm import tqdm\n",
    "\n",
    "import torch\n",
    "import torch.nn as nn\n",
    "from src.model import GraphTransformer\n",
    "from torch_ema import ExponentialMovingAverage\n",
    "from src.diffusion import SDE\n",
    "\n",
    "\n",
    "device = torch.device('cuda:1')\n",
    "\n",
    "n_layers = 6\n",
    "input_dims = {'X': 4, 'E': 1, 'y': 1}\n",
    "hidden_mlp_dims = {'X': 256, 'E': 128, 'y': 128}\n",
    "hidden_dims = {'dx': 256, 'de': 64, 'dy': 64, 'n_head': 8, 'dim_ffX': 256, 'dim_ffE': 128, 'dim_ffy': 128}\n",
    "output_dims = {'X': 4, 'E': 1, 'y': 1}\n",
    "\n",
    "\n",
    "model = GraphTransformer(\n",
    "        n_layers=n_layers,\n",
    "        input_dims=input_dims,\n",
    "        hidden_mlp_dims=hidden_mlp_dims,\n",
    "        hidden_dims=hidden_dims,\n",
    "        output_dims=output_dims,\n",
    "        act_fn_in=nn.ReLU(),\n",
    "        act_fn_out=nn.ReLU(),\n",
    "    ).to(device)\n",
    "sde = SDE().to(device)\n",
    "\n",
    "model.load_state_dict(torch.load('ckpts/qm9_test_50epochs.pt'))\n",
    "\n",
    "n_atoms = torch.randint(1, 10, (8, ))\n",
    "samples = sde.euler_maruyama_sample(model, device, n_atoms=n_atoms, n_steps=500)\n",
    "#samples = sde.predictor_corrector_sample(model, device, n_atoms=n_atoms, n_steps=1000, n_lang_steps=3)"
   ]
  },
  {
   "cell_type": "code",
   "execution_count": 1,
   "metadata": {},
   "outputs": [
    {
     "name": "stderr",
     "output_type": "stream",
     "text": [
      "100%|██████████| 133885/133885 [01:39<00:00, 1343.88it/s]\n"
     ]
    },
    {
     "data": {
      "text/plain": [
       "tensor([0.0000e+00, 2.2407e-05, 3.7345e-05, 6.7222e-05, 2.3154e-04, 9.7098e-04,\n",
       "        4.6159e-03, 2.3879e-02, 1.3667e-01, 8.3351e-01, 0.0000e+00, 0.0000e+00,\n",
       "        0.0000e+00, 0.0000e+00, 0.0000e+00, 0.0000e+00, 0.0000e+00, 0.0000e+00,\n",
       "        0.0000e+00, 0.0000e+00, 0.0000e+00, 0.0000e+00, 0.0000e+00, 0.0000e+00,\n",
       "        0.0000e+00, 0.0000e+00, 0.0000e+00, 0.0000e+00, 0.0000e+00, 0.0000e+00,\n",
       "        0.0000e+00, 0.0000e+00, 0.0000e+00, 0.0000e+00, 0.0000e+00, 0.0000e+00,\n",
       "        0.0000e+00, 0.0000e+00, 0.0000e+00, 0.0000e+00, 0.0000e+00, 0.0000e+00,\n",
       "        0.0000e+00, 0.0000e+00, 0.0000e+00, 0.0000e+00, 0.0000e+00, 0.0000e+00,\n",
       "        0.0000e+00, 0.0000e+00])"
      ]
     },
     "execution_count": 1,
     "metadata": {},
     "output_type": "execute_result"
    }
   ],
   "source": [
    "from src.data_utils import get_n_atom_distribution\n",
    "\n",
    "from src.datasets.qm9_dataset import QM9Dataset\n",
    "import pandas as pd\n",
    "\n",
    "\n",
    "df = pd.read_csv('../../data/qm9.csv')\n",
    "dataset = QM9Dataset(df['smiles'].tolist())\n",
    "train_data_dist = get_n_atom_distribution(dataset)\n",
    "train_data_dist"
   ]
  },
  {
   "cell_type": "code",
   "execution_count": 4,
   "metadata": {},
   "outputs": [
    {
     "data": {
      "text/plain": [
       "tensor(2.2407e-05)"
      ]
     },
     "execution_count": 4,
     "metadata": {},
     "output_type": "execute_result"
    }
   ],
   "source": [
    "train_data_dist[1]"
   ]
  },
  {
   "cell_type": "code",
   "execution_count": 18,
   "metadata": {},
   "outputs": [
    {
     "data": {
      "text/plain": [
       "tensor([9, 8, 9, 9, 8, 9, 9, 9])"
      ]
     },
     "execution_count": 18,
     "metadata": {},
     "output_type": "execute_result"
    }
   ],
   "source": [
    "import torch\n",
    "torch.multinomial(train_data_dist, 8, replacement=True)"
   ]
  },
  {
   "cell_type": "code",
   "execution_count": 29,
   "metadata": {},
   "outputs": [
    {
     "data": {
      "image/png": "[encoded data removed]",
      "text/plain": [
       "<PIL.PngImagePlugin.PngImageFile image mode=RGB size=300x300>"
      ]
     },
     "execution_count": 29,
     "metadata": {},
     "output_type": "execute_result"
    }
   ],
   "source": [
    "from src.data_utils import drop_masked, data_to_mol, mol_to_pil, valid_mol_to_pil\n",
    "\n",
    "\n",
    "X, E = samples\n",
    "\n",
    "i = 6\n",
    "\n",
    "x, e = drop_masked(X[i], E[i])\n",
    "mol = data_to_mol(x, e)\n",
    "valid_mol_to_pil(mol)"
   ]
  },
  {
   "cell_type": "code",
   "execution_count": 104,
   "metadata": {},
   "outputs": [
    {
     "data": {
      "text/plain": [
       "tensor([0, 2, 0, 1, 0, 2, 0, 1, 0], device='cuda:1')"
      ]
     },
     "execution_count": 104,
     "metadata": {},
     "output_type": "execute_result"
    }
   ],
   "source": [
    "x.argmax(-1)"
   ]
  },
  {
   "cell_type": "code",
   "execution_count": 107,
   "metadata": {},
   "outputs": [
    {
     "data": {
      "text/plain": [
       "tensor([[0., 0., 0., 0., 0., -0., 1., 0., -0.],\n",
       "        [0., 0., 1., -0., 0., 0., 0., 0., 1.],\n",
       "        [0., 1., 0., 0., 0., 1., 0., 1., -0.],\n",
       "        [0., -0., 0., 0., 1., 0., 1., -0., 3.],\n",
       "        [0., 0., 0., 1., 0., 1., 0., 1., 1.],\n",
       "        [-0., 0., 1., 0., 1., 0., 0., 0., 0.],\n",
       "        [1., 0., 0., 1., 0., 0., 0., 1., -0.],\n",
       "        [0., 0., 1., -0., 1., 0., 1., 0., -0.],\n",
       "        [-0., 1., -0., 3., 1., 0., -0., -0., 0.]], device='cuda:1')"
      ]
     },
     "execution_count": 107,
     "metadata": {},
     "output_type": "execute_result"
    }
   ],
   "source": [
    "torch.round(e * 4)"
   ]
  }
 ],
 "metadata": {
  "kernelspec": {
   "display_name": "torch20_graph",
   "language": "python",
   "name": "python3"
  },
  "language_info": {
   "codemirror_mode": {
    "name": "ipython",
    "version": 3
   },
   "file_extension": ".py",
   "mimetype": "text/x-python",
   "name": "python",
   "nbconvert_exporter": "python",
   "pygments_lexer": "ipython3",
   "version": "3.10.10"
  },
  "orig_nbformat": 4
 },
 "nbformat": 4,
 "nbformat_minor": 2
}
