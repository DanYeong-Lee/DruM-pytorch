{
 "cells": [
  {
   "cell_type": "code",
   "execution_count": 5,
   "metadata": {},
   "outputs": [],
   "source": [
    "import torch\n",
    "import torch.nn.functional as F\n",
    "from torch.utils.data import Dataset, DataLoader\n",
    "import torch_geometric\n",
    "from torch_geometric.data import Data\n",
    "from rdkit import Chem, RDLogger\n",
    "from src.data_utils import collate_fn\n",
    "\n",
    "\n",
    "\n",
    "atom_type = {'C': 0, 'N': 1, 'O': 2, 'F': 3, 'S': 4, 'P': 5, 'Cl': 6, 'Br': 7, 'I': 8}\n",
    "bond_type = {'SINGLE': 1, 'DOUBLE': 2, 'TRIPLE': 3}\n",
    "\n",
    "\n",
    "def from_smiles(smiles: str) -> 'torch_geometric.data.Data':\n",
    "    RDLogger.DisableLog('rdApp.*')\n",
    "\n",
    "    mol = Chem.MolFromSmiles(smiles)\n",
    "\n",
    "    if mol is None:\n",
    "        mol = Chem.MolFromSmiles('')\n",
    "    Chem.Kekulize(mol)\n",
    "\n",
    "    x = []\n",
    "    for atom in mol.GetAtoms():\n",
    "        x.append(atom_type[atom.GetSymbol()])\n",
    "    x = torch.tensor(x, dtype=torch.long)\n",
    "    x = F.one_hot(x, num_classes=len(atom_type)).to(torch.float)\n",
    "\n",
    "    adj = torch.zeros((mol.GetNumAtoms(), mol.GetNumAtoms()), dtype=torch.float)\n",
    "\n",
    "    for bond in mol.GetBonds():\n",
    "        i = bond.GetBeginAtomIdx()\n",
    "        j = bond.GetEndAtomIdx()\n",
    "\n",
    "        e = bond_type[str(bond.GetBondType())]\n",
    "        adj[i, j] = e\n",
    "        adj[j, i] = e\n",
    "\n",
    "    return Data(x=x, adj=adj, smiles=smiles)\n",
    "\n",
    "\n",
    "\n",
    "class ZINCDataset(Dataset):\n",
    "    def __init__(self, df):\n",
    "        self.df = df\n",
    "\n",
    "    def __len__(self):\n",
    "        return len(self.df)\n",
    "\n",
    "    def __getitem__(self, idx):\n",
    "        row = self.df.iloc[idx]\n",
    "        data = from_smiles(row['smiles'])\n",
    "        data.adj = data.adj / 3\n",
    "        data.aromatic_rings = torch.tensor(row['aromatic_rings'], dtype=torch.long)\n",
    "        data.aliphatic_rings = torch.tensor(row['aliphatic_rings'], dtype=torch.long)\n",
    "        data.hb_donors = torch.tensor(row['hb_donor_count'], dtype=torch.long)\n",
    "        data.hb_acceptors = torch.tensor(row['hb_acceptor_count'], dtype=torch.long)\n",
    "\n",
    "        return data"
   ]
  },
  {
   "cell_type": "code",
   "execution_count": 9,
   "metadata": {},
   "outputs": [
    {
     "name": "stdout",
     "output_type": "stream",
     "text": [
      "torch.Size([32, 32, 9]) torch.Size([32, 32, 32]) torch.Size([32, 32])\n"
     ]
    }
   ],
   "source": [
    "import pandas as pd\n",
    "from src.data_utils import collate_fn\n",
    "\n",
    "\n",
    "df = pd.read_csv('../../data/ZINC/zinc_250k_counted.csv')\n",
    "dataset = ZINCDataset(df)\n",
    "dataloader = DataLoader(dataset, batch_size=32, shuffle=True, collate_fn=collate_fn)\n",
    "batch = next(iter(dataloader))\n",
    "X, E, mask = batch\n",
    "print(X.shape, E.shape, mask.shape)"
   ]
  },
  {
   "cell_type": "code",
   "execution_count": 18,
   "metadata": {},
   "outputs": [
    {
     "data": {
      "image/png": "[encoded data removed]",
      "text/plain": [
       "<PIL.PngImagePlugin.PngImageFile image mode=RGB size=300x300>"
      ]
     },
     "execution_count": 18,
     "metadata": {},
     "output_type": "execute_result"
    }
   ],
   "source": [
    "from src.data_utils import drop_masked, data_to_mol, mol_to_pil, valid_mol_to_pil\n",
    "\n",
    "i = 2\n",
    "\n",
    "x, e = drop_masked(X[i], E[i])\n",
    "mol = data_to_mol(x, e)\n",
    "pil = valid_mol_to_pil(mol)\n",
    "pil"
   ]
  }
 ],
 "metadata": {
  "kernelspec": {
   "display_name": "torch20_graph",
   "language": "python",
   "name": "python3"
  },
  "language_info": {
   "codemirror_mode": {
    "name": "ipython",
    "version": 3
   },
   "file_extension": ".py",
   "mimetype": "text/x-python",
   "name": "python",
   "nbconvert_exporter": "python",
   "pygments_lexer": "ipython3",
   "version": "3.10.10"
  },
  "orig_nbformat": 4
 },
 "nbformat": 4,
 "nbformat_minor": 2
}
